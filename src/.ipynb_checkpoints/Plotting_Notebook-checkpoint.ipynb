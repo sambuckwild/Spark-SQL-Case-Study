{
 "cells": [
  {
   "cell_type": "code",
   "execution_count": 6,
   "metadata": {},
   "outputs": [],
   "source": [
    "from clean_data import *"
   ]
  },
  {
   "cell_type": "code",
   "execution_count": 4,
   "metadata": {},
   "outputs": [],
   "source": [
    "master = \"local[4]\"\n",
    "app_name = \"/df case study\"\n",
    "tweet_data = '../data/french_tweets.json'\n",
    "#create spark instance\n",
    "spark = create_spark(master, app_name)\n",
    "#create our original tweets_df\n",
    "tweets_df = create_df_from_json('../data/french_tweets.json')"
   ]
  },
  {
   "cell_type": "code",
   "execution_count": 5,
   "metadata": {},
   "outputs": [],
   "source": [
    "#get query results we need to make new cleaned dataframe\n",
    "tweet_results = query_results_tweets(tweets_df)\n",
    "#gets hashtag + tweet id results\n",
    "ht_results = query_results_hashtags(tweets_df)\n",
    "#gets location + tweet id results\n",
    "geo_results = query_results_location(tweets_df)"
   ]
  },
  {
   "cell_type": "code",
   "execution_count": 7,
   "metadata": {},
   "outputs": [],
   "source": [
    "tweet_schema = StructType( [\n",
    "    StructField('Tweet_ID', StringType(), True),\n",
    "    StructField('Created_At', StringType(), True),\n",
    "    StructField('Username',StringType(),True),\n",
    "    StructField('Tweet_Text', StringType(), True),\n",
    "    StructField('Tweet_Language', StringType(), True),\n",
    "    StructField('Retweet_Count', IntegerType(), True)] )\n",
    "#create cleaned tweet dataframe\n",
    "clean_tweet_df = create_clean_df(tweet_results, tweet_schema)\n",
    "\n",
    "ht_schema = StructType( [\n",
    "    StructField('Tweet_ID', StringType(), True),\n",
    "    StructField('Hashtag',StringType(),True)] )\n",
    "#create cleaned hashtag dataframe\n",
    "ht_df = create_clean_df(ht_results, ht_schema)\n",
    "\n",
    "geo_schema = StructType( [\n",
    "    StructField('Tweet_ID', StringType(), True),\n",
    "    StructField('Longitude',FloatType(),True),\n",
    "    StructField('Lattitude',FloatType(),True)] )\n",
    "#create cleaned location dataframe\n",
    "geo_df = create_clean_df(geo_results, geo_schema)"
   ]
  },
  {
   "cell_type": "code",
   "execution_count": 8,
   "metadata": {},
   "outputs": [],
   "source": [
    "tweet_pdf_df = pandas_df(clean_tweet_df)\n",
    "ht_pd_df = pandas_df(ht_df)\n",
    "geo_pd_df = pandas_df(geo_df)"
   ]
  },
  {
   "cell_type": "code",
   "execution_count": 9,
   "metadata": {},
   "outputs": [
    {
     "ename": "ModuleNotFoundError",
     "evalue": "No module named 'wordcloud'",
     "output_type": "error",
     "traceback": [
      "\u001b[0;31m---------------------------------------------------------------------------\u001b[0m",
      "\u001b[0;31mModuleNotFoundError\u001b[0m                       Traceback (most recent call last)",
      "\u001b[0;32m<ipython-input-9-d093750dfa42>\u001b[0m in \u001b[0;36m<module>\u001b[0;34m\u001b[0m\n\u001b[0;32m----> 1\u001b[0;31m \u001b[0;32mfrom\u001b[0m \u001b[0mwordcloud\u001b[0m \u001b[0;32mimport\u001b[0m \u001b[0mWordCloud\u001b[0m\u001b[0;34m,\u001b[0m \u001b[0mSTOPWORDS\u001b[0m\u001b[0;34m\u001b[0m\u001b[0;34m\u001b[0m\u001b[0m\n\u001b[0m",
      "\u001b[0;31mModuleNotFoundError\u001b[0m: No module named 'wordcloud'"
     ]
    }
   ],
   "source": [
    "from wordcloud import WordCloud, STOPWORDS "
   ]
  },
  {
   "cell_type": "code",
   "execution_count": null,
   "metadata": {},
   "outputs": [],
   "source": []
  }
 ],
 "metadata": {
  "kernelspec": {
   "display_name": "Python 3",
   "language": "python",
   "name": "python3"
  },
  "language_info": {
   "codemirror_mode": {
    "name": "ipython",
    "version": 3
   },
   "file_extension": ".py",
   "mimetype": "text/x-python",
   "name": "python",
   "nbconvert_exporter": "python",
   "pygments_lexer": "ipython3",
   "version": "3.8.6"
  }
 },
 "nbformat": 4,
 "nbformat_minor": 4
}
